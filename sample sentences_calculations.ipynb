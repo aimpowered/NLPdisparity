{
 "cells": [
  {
   "cell_type": "code",
   "execution_count": 1,
   "metadata": {},
   "outputs": [],
   "source": [
    "sentence_1_baseline_en =  \"La technologie est là pour le faire\"\n",
    "sentence_2_injected_en =  \"La technologie le frappe de plein fouet\""
   ]
  },
  {
   "cell_type": "code",
   "execution_count": 5,
   "metadata": {},
   "outputs": [],
   "source": [
    "import re\n",
    "import pandas as pd\n",
    "import copy\n",
    "import numpy as np\n",
    "\n",
    "import os\n",
    "def edit_distance(reference_sentence, sentence):\n",
    "        \"\"\"\n",
    "        Returns the number of edits required to transform reference_sentence into sentence at word level\n",
    "        edits include insertions, deletions and substitutions\n",
    "        based on levenshtein distance\n",
    "        also returns a dictionary of substitutions, insertions and deletions\n",
    "        \"\"\"\n",
    "        substitutions = 0\n",
    "        insertions = 0\n",
    "        deletions = 0\n",
    "        substitution_dict = {}\n",
    "        insertion_dict = {}\n",
    "        deletion_dict = {}\n",
    "        #remove punctuation and split into words\n",
    "        sentence = re.sub(r'[^\\w\\s]','',sentence).lower().split()\n",
    "        reference_sentence = re.sub(r'[^\\w\\s]','',reference_sentence).lower().split()\n",
    "        #create matrix\n",
    "        matrix = np.zeros((len(reference_sentence)+1,len(sentence)+1))\n",
    "        #fill in first row and column\n",
    "        for i in range(len(reference_sentence)+1):\n",
    "            matrix[i][0] = i\n",
    "        for j in range(len(sentence)+1):\n",
    "            matrix[0][j] = j\n",
    "        #fill in rest of matrix\n",
    "        for i in range(1,len(reference_sentence)+1):\n",
    "            for j in range(1,len(sentence)+1):\n",
    "                if sentence[j-1] == reference_sentence[i-1]:\n",
    "                    matrix[i][j] = matrix[i-1][j-1]\n",
    "                else:\n",
    "                    matrix[i][j] = min(matrix[i-1][j-1], matrix[i-1][j], matrix[i][j-1])+1\n",
    "        #backtrack to find edits\n",
    "        i = len(reference_sentence)\n",
    "        j = len(sentence)\n",
    "        while i > 0 and j > 0:\n",
    "            if sentence[j-1] == reference_sentence[i-1]:\n",
    "                i -= 1\n",
    "                j -= 1\n",
    "            else:\n",
    "                if matrix[i][j] == matrix[i-1][j-1]+1:\n",
    "                    substitutions += 1\n",
    "                    if reference_sentence[i-1] not in substitution_dict:\n",
    "                        substitution_dict[reference_sentence[i-1]] = {sentence[j-1]:1}\n",
    "                    else:\n",
    "                        if sentence[j-1] not in substitution_dict[reference_sentence[i-1]]:\n",
    "                            substitution_dict[reference_sentence[i-1]][sentence[j-1]] = 1\n",
    "                        else:\n",
    "                            substitution_dict[reference_sentence[i-1]][sentence[j-1]] += 1\n",
    "                    i -= 1\n",
    "                    j -= 1\n",
    "                elif matrix[i][j] == matrix[i-1][j]+1:\n",
    "                    deletions += 1\n",
    "                    if reference_sentence[i-1] not in deletion_dict:\n",
    "                        deletion_dict[reference_sentence[i-1]] = 1\n",
    "                    else:\n",
    "                        deletion_dict[reference_sentence[i-1]] += 1\n",
    "                    i -= 1\n",
    "                elif matrix[i][j] == matrix[i][j-1]+1:\n",
    "                    insertions += 1\n",
    "                    if sentence[j-1] not in insertion_dict:\n",
    "                        insertion_dict[sentence[j-1]] = 1\n",
    "                    else:\n",
    "                        insertion_dict[sentence[j-1]] += 1\n",
    "                    j -= 1\n",
    "        while i > 0:\n",
    "            deletions += 1\n",
    "            if reference_sentence[i-1] not in deletion_dict:\n",
    "                deletion_dict[reference_sentence[i-1]] = 1\n",
    "            else:\n",
    "                deletion_dict[reference_sentence[i-1]] += 1\n",
    "            i -= 1\n",
    "        while j > 0:\n",
    "            insertions += 1\n",
    "            if sentence[j-1] not in insertion_dict:\n",
    "                insertion_dict[sentence[j-1]] = 1\n",
    "            else:\n",
    "                insertion_dict[sentence[j-1]] += 1\n",
    "            j -= 1\n",
    "        distance = substitutions+insertions+deletions\n",
    "        return substitutions, insertions, deletions, substitution_dict, insertion_dict, deletion_dict, distance"
   ]
  },
  {
   "cell_type": "code",
   "execution_count": 6,
   "metadata": {},
   "outputs": [
    {
     "data": {
      "text/plain": [
       "(5,\n",
       " 0,\n",
       " 0,\n",
       " {'faire': {'fouet': 1},\n",
       "  'le': {'plein': 1},\n",
       "  'pour': {'de': 1},\n",
       "  'là': {'frappe': 1},\n",
       "  'est': {'le': 1}},\n",
       " {},\n",
       " {},\n",
       " 5)"
      ]
     },
     "execution_count": 6,
     "metadata": {},
     "output_type": "execute_result"
    }
   ],
   "source": [
    "\n",
    "edit_distance(sentence_1_baseline_en, sentence_2_injected_en)"
   ]
  },
  {
   "cell_type": "code",
   "execution_count": null,
   "metadata": {},
   "outputs": [],
   "source": []
  }
 ],
 "metadata": {
  "kernelspec": {
   "display_name": "Dyslexia_Research",
   "language": "python",
   "name": "python3"
  },
  "language_info": {
   "codemirror_mode": {
    "name": "ipython",
    "version": 3
   },
   "file_extension": ".py",
   "mimetype": "text/x-python",
   "name": "python",
   "nbconvert_exporter": "python",
   "pygments_lexer": "ipython3",
   "version": "3.10.11"
  }
 },
 "nbformat": 4,
 "nbformat_minor": 2
}
